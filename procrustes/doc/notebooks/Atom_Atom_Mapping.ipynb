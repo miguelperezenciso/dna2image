{
 "cells": [
  {
   "cell_type": "markdown",
   "metadata": {},
   "source": [
    "# Atom-Atom Mapping"
   ]
  },
  {
   "cell_type": "markdown",
   "metadata": {},
   "source": [
    "Given two molecular structures, it is important to be able to identify atoms that are chemically similar. This a commonly used in 3D QSAR pharmacore analysis, substructure searching, metabolic pathway identification, and chemical machine learning."
   ]
  },
  {
   "cell_type": "markdown",
   "metadata": {},
   "source": [
    "The code block below shows how easily the *Procrustes* library can be used to map atoms of *but-1-en-3-yne* (**A**) and *3,3-dimethylpent-1-en-4-yne* (**B**) as depicted in **Fig. (i)**. Based on our chemical intuition, we can tell that the triple and double bonds of both molecules \"match\" one another; however, simple (geometric) molecular alignment based on three-dimensional coordinates does not identify that. The pivotal step is defining a representation that contains bonding information, and then using permutation Procrustes to match atoms between the two chemical structures. \n",
    "\n",
    "Inspired by graph theory, we represented each molecule with an \"adjacency\" matrix where the diagonal elements are the atomic numbers and the off-diagonal elements are the bond orders (matrix $\\mathbf{A} \\in \\mathbb{R}^{4 \\times 4}$ and $\\mathbf{B} \\in \\mathbb{R}^{7 \\times 7}$ in **Fig. (ii)** ). The two-sided permutation Procrustes (`Procrustes.permutation_2sided`) with one-transformation can be used to find the optimal matching of the two matrices."
   ]
  },
  {
   "cell_type": "markdown",
   "metadata": {},
   "source": [
    "![Fig. 1. Atom-atom Mapping with Two-sided Permutation Procrustes](notebook_data/atom_atom_mapping/atom_atom_mapping.png \"Fig. 1 Atom-atom Mapping with Two-sided Permutation Procrustes\")"
   ]
  },
  {
   "cell_type": "markdown",
   "metadata": {},
   "source": [
    "It is important to note that the permutation Procrustes requires the two matrices to be of the \n",
    "same size, so the smaller matrix $\\mathbf{A}$ is padded with zero rows and columns to have same \n",
    "shape as matrix $\\mathbf{B}$. After obtaining the optimal permutation matrix $\\mathbf{P}$, the \n",
    "transformed matrix $\\mathbf{P^{\\top}AP}$ should be compared to matrix $\\mathbf{B}$ for \n",
    "identifying the matching atoms; the zero rows/columns correspond to atoms in $\\mathbf{B}$ for \n",
    "which there are no corresponding atoms in $\\mathbf{A}$. The mapping between atoms can be also \n",
    "directly deduced from matrix $\\mathbf{P}$,"
   ]
  },
  {
   "cell_type": "markdown",
   "metadata": {},
   "source": [
    "\n",
    "\\begin{equation}\n",
    "\\min_{\\mathbf{P}} {\\left\\lVert \\mathbf{P}^{\\top} \\mathbf{A} \n",
    "\\mathbf{P} - \\mathbf{B} \\right\\rVert}_{F}^2\n",
    "\\end{equation}"
   ]
  },
  {
   "cell_type": "code",
   "execution_count": 1,
   "metadata": {},
   "outputs": [],
   "source": [
    "# import required libraries\n",
    "import numpy as np\n",
    "\n",
    "from procrustes import permutation_2sided"
   ]
  },
  {
   "cell_type": "markdown",
   "metadata": {},
   "source": [
    "Now we have two matrices $A$ and $B$ for two molecules,"
   ]
  },
  {
   "cell_type": "code",
   "execution_count": 2,
   "metadata": {},
   "outputs": [],
   "source": [
    "# Define molecule A, but‐1‐en‐3‐yne\n",
    "A = np.array([[6, 3, 0, 0],\n",
    "              [3, 6, 1, 0],\n",
    "              [0, 1, 6, 2],\n",
    "              [0, 0, 2, 6]])"
   ]
  },
  {
   "cell_type": "code",
   "execution_count": 3,
   "metadata": {},
   "outputs": [],
   "source": [
    "# Define molecule B, 3,3‐dimethylpent‐1‐en‐4‐yne\n",
    "B = np.array([[6, 3, 0, 0, 0, 0, 0],\n",
    "              [3, 6, 1, 0, 0, 0, 0],\n",
    "              [0, 1, 6, 1, 0, 1, 1],\n",
    "              [0, 0, 1, 6, 2, 0, 0],\n",
    "              [0, 0, 0, 2, 6, 0, 0],\n",
    "              [0, 0, 1, 0, 0, 6, 0],\n",
    "              [0, 0, 1, 0, 0, 0, 6]])"
   ]
  },
  {
   "cell_type": "markdown",
   "metadata": {},
   "source": [
    "Now we have both matrix $A$ and $B$ defined and we can use two-sided permutation procrustes to find the optimal transformation operation."
   ]
  },
  {
   "cell_type": "code",
   "execution_count": 4,
   "metadata": {},
   "outputs": [],
   "source": [
    "# two-sided permutation Procrustes\n",
    "result = permutation_2sided(A, B, \n",
    "                            method=\"approx-normal1\",\n",
    "                            single=True, pad=True)"
   ]
  },
  {
   "cell_type": "code",
   "execution_count": 5,
   "metadata": {},
   "outputs": [
    {
     "name": "stdout",
     "output_type": "stream",
     "text": [
      "[[1. 0. 0. 0. 0. 0. 0.]\n",
      " [0. 1. 0. 0. 0. 0. 0.]\n",
      " [0. 0. 0. 1. 0. 0. 0.]\n",
      " [0. 0. 0. 0. 1. 0. 0.]\n",
      " [0. 0. 1. 0. 0. 0. 0.]\n",
      " [0. 0. 0. 0. 0. 1. 0.]\n",
      " [0. 0. 0. 0. 0. 0. 1.]]\n"
     ]
    }
   ],
   "source": [
    "# the permutation matrix\n",
    "P = result.t\n",
    "print(P)"
   ]
  },
  {
   "cell_type": "markdown",
   "metadata": {},
   "source": [
    "The new matrix of molecule A can be obtained with the permutation operation."
   ]
  },
  {
   "cell_type": "code",
   "execution_count": 6,
   "metadata": {},
   "outputs": [
    {
     "name": "stdout",
     "output_type": "stream",
     "text": [
      "Transformed A: \n",
      " [[6 3 0 0 0 0 0]\n",
      " [3 6 0 1 0 0 0]\n",
      " [0 0 0 0 0 0 0]\n",
      " [0 1 0 6 2 0 0]\n",
      " [0 0 0 2 6 0 0]\n",
      " [0 0 0 0 0 0 0]\n",
      " [0 0 0 0 0 0 0]]\n"
     ]
    }
   ],
   "source": [
    "# Compute the transformed molecule A\n",
    "new_A = np.dot(P.T, np.dot(result.new_a, P)).astype(int)\n",
    "# compare to B\n",
    "print(\"Transformed A: \\n\", new_A)"
   ]
  },
  {
   "cell_type": "markdown",
   "metadata": {},
   "source": [
    "The computed result is shown in the **Fig. (iii)***, generating ideal matching of the double and triple carbon-carbon bonds. The new matrix representation of $\\mathbf{A}$ suggests that atom 3 is empty since the third row and third column of $\\mathbf{A}$ are zero (matrix elements in blue). That is, a virtual atom 3 was added to molecule $\\mathbf{A}$ to align with atom 3 in molecule $\\mathbf{B}$. Similarly, atoms 6 and 7 in molecule $\\mathbf{B}$ (matrix elements in blue) do not have meaningful matches in $\\mathbf{A}$, and are mapped to two virtual atoms, atom 6 and 7 in molecule $\\mathbf{A}$. "
   ]
  }
 ],
 "metadata": {
  "kernelspec": {
   "display_name": "Python 3",
   "language": "python",
   "name": "python3"
  },
  "language_info": {
   "codemirror_mode": {
    "name": "ipython",
    "version": 3
   },
   "file_extension": ".py",
   "mimetype": "text/x-python",
   "name": "python",
   "nbconvert_exporter": "python",
   "pygments_lexer": "ipython3",
   "version": "3.8.3"
  }
 },
 "nbformat": 4,
 "nbformat_minor": 4
}
