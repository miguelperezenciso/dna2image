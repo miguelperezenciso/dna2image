{
 "cells": [
  {
   "cell_type": "markdown",
   "id": "driving-twelve",
   "metadata": {},
   "source": [
    "# <font color='blue'>Quick Start</font>"
   ]
  },
  {
   "cell_type": "markdown",
   "id": "round-investment",
   "metadata": {},
   "source": [
    "## <font color='blue'>Orthogonal Procrustes</font>\n",
    "\n",
    "The code block below gives an example of the orthogonal Procrustes problem for random matrices $\\mathbf{A}$ and $\\mathbf{B}$. Here, matrix $\\mathbf{B}$ is constructed by shifting an orthogonal transformation of matrix $\\mathbf{A}$, so the matrices can be perfectly matched. As is the case with all Procrustes flavours, the user can specify whether the matrices should be translated (so that both are centered at origin) and/or scaled (so that both are normalized to unity with respect to the Frobenius norm). In addition, the other optional arguments (not appearing in the code-block below) specify whether the zero columns (on the right-hand side) and rows (at the bottom) should be removed prior to transformation."
   ]
  },
  {
   "cell_type": "code",
   "execution_count": 1,
   "id": "viral-citation",
   "metadata": {},
   "outputs": [
    {
     "name": "stdout",
     "output_type": "stream",
     "text": [
      "Error =  1.3915306710853362e-29\n",
      "\n",
      "T Matrix = \n",
      "[[ 0.03865508  0.13013782  0.2549545   0.37716006 -0.59912545 -0.0325971\n",
      "   0.64366493]\n",
      " [-0.13731891 -0.18000817  0.5398032  -0.69373306 -0.3205248  -0.26046856\n",
      "  -0.07421252]\n",
      " [ 0.72432763 -0.42971522 -0.21038602  0.07379261 -0.36491037 -0.19262297\n",
      "  -0.2659389 ]\n",
      " [ 0.08988706  0.75853384 -0.14674542 -0.02269216 -0.15504793 -0.55054291\n",
      "  -0.25953847]\n",
      " [ 0.558342    0.10708454  0.41752706 -0.04690623  0.58637901 -0.19736748\n",
      "   0.34272993]\n",
      " [ 0.1075401   0.05604666 -0.6099698  -0.56941103 -0.02516049  0.03531398\n",
      "   0.53583737]\n",
      " [-0.35157991 -0.41955229 -0.17726309  0.20998888  0.19141502 -0.74208588\n",
      "   0.19369757]]\n",
      "\n",
      "New_A Matrix = \n",
      "[[-0.07443648  0.11983311 -0.20002393 -0.13611644 -0.02139527 -0.05455788\n",
      "   0.01943769]\n",
      " [ 0.06414553 -0.16240025  0.18462722  0.00798807  0.07406042  0.11407002\n",
      "   0.05735752]\n",
      " [ 0.16503339  0.07920114 -0.10647581  0.12099388  0.19021945  0.20760587\n",
      "   0.07335069]\n",
      " [ 0.121851   -0.10555227  0.02335231 -0.07106434 -0.05800258  0.10540625\n",
      "  -0.17838311]\n",
      " [ 0.18754999  0.04710502  0.05006289 -0.05648519  0.10498689 -0.115064\n",
      "  -0.19832019]\n",
      " [-0.06049661  0.0654293  -0.12263585  0.13876021  0.09047201 -0.0098336\n",
      "  -0.05199832]\n",
      " [-0.10249438 -0.01092427  0.12960226 -0.18369122 -0.18284032 -0.15184036\n",
      "  -0.03567859]\n",
      " [-0.12862709 -0.21246372 -0.09562441  0.07666721  0.16324497  0.1466079\n",
      "   0.14482351]\n",
      " [-0.13008157  0.12536351 -0.00051645  0.0600251  -0.19325161 -0.09725221\n",
      "   0.005391  ]\n",
      " [-0.04244378  0.05440842  0.13763177  0.04292272 -0.16749397 -0.145142\n",
      "   0.1640198 ]]\n",
      "\n",
      "New_B Matrix = \n",
      "[[-0.2010976  -0.06205755  0.12866505 -0.08672704  0.09283032  0.07255244\n",
      "  -0.00108559]\n",
      " [ 0.19268119 -0.04543728 -0.16014959  0.09391623 -0.00345232 -0.05290507\n",
      "   0.0997833 ]\n",
      " [ 0.03200081  0.14598319  0.02926085 -0.11503591  0.01619029 -0.15675591\n",
      "   0.28790672]\n",
      " [ 0.07139748  0.04545567 -0.07728716  0.02776099 -0.10748382  0.20569256\n",
      "   0.10054717]\n",
      " [ 0.14793599  0.03956855  0.22017585  0.06198323 -0.11047914  0.12545754\n",
      "   0.0544824 ]\n",
      " [-0.01994059  0.16925513  0.0783236  -0.08996917  0.081855   -0.04745751\n",
      "  -0.03152888]\n",
      " [-0.03097127 -0.21952049 -0.00973727  0.07019759 -0.06412654  0.1395532\n",
      "  -0.20289011]\n",
      " [ 0.0178269   0.08568875 -0.18555424  0.02935795  0.28792699 -0.09876956\n",
      "   0.10106578]\n",
      " [-0.13747606 -0.02214872  0.0034845  -0.07185736 -0.0812051  -0.03065325\n",
      "  -0.22577422]\n",
      " [-0.07235685 -0.13678725 -0.02718159  0.08037348 -0.11205569 -0.15671444\n",
      "  -0.18250657]]\n"
     ]
    }
   ],
   "source": [
    "import numpy as np\n",
    "from scipy.stats import ortho_group\n",
    "from procrustes import orthogonal\n",
    "\n",
    "# random input 10x7 matrix A\n",
    "a = np.random.rand(10, 7)\n",
    "\n",
    "# random orthogonal 7x7 matrix T\n",
    "t = ortho_group.rvs(7)\n",
    "\n",
    "# target matrix B (which is a shifted AT)\n",
    "b = np.dot(a, t) + np.random.rand(1, 7)\n",
    "\n",
    "# orthogonal Procrustes analysis with translation\n",
    "result = orthogonal(a, b, scale=True, translate=True)\n",
    "\n",
    "# display Procrustes results\n",
    "print(\"Error = \", result.error)   # procrustes error (expected to be zero)\n",
    "print(\"\\nT Matrix = \")\n",
    "print(result.t)       # transformation matrix (same as T)\n",
    "print(\"\\nNew_A Matrix = \")\n",
    "print(result.new_a)   # matrix A after translation and scaling\n",
    "print(\"\\nNew_B Matrix = \")\n",
    "print(result.new_b)   # matrix B after translation and scaling"
   ]
  }
 ],
 "metadata": {
  "kernelspec": {
   "display_name": "Python 3",
   "language": "python",
   "name": "python3"
  },
  "language_info": {
   "codemirror_mode": {
    "name": "ipython",
    "version": 3
   },
   "file_extension": ".py",
   "mimetype": "text/x-python",
   "name": "python",
   "nbconvert_exporter": "python",
   "pygments_lexer": "ipython3",
   "version": "3.6.10"
  },
  "toc": {
   "base_numbering": 1,
   "nav_menu": {},
   "number_sections": true,
   "sideBar": true,
   "skip_h1_title": false,
   "title_cell": "Table of Contents",
   "title_sidebar": "Contents",
   "toc_cell": false,
   "toc_position": {},
   "toc_section_display": true,
   "toc_window_display": false
  }
 },
 "nbformat": 4,
 "nbformat_minor": 5
}
