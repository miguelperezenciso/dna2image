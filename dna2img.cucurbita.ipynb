{
 "cells": [
  {
   "cell_type": "markdown",
   "metadata": {},
   "source": [
    "## Computer generation of fruit shapes from DNA sequence: Cucurbit shapes\n",
    "\n",
    "### Citation:\n",
    "M. Pérez-Enciso, C. Pons, A. Graell, A.J. Monforte, L.M. Zingaretti. Computer generation of fruit shapes from DNA sequence. Biorxiv. submitted"
   ]
  },
  {
   "cell_type": "code",
   "execution_count": null,
   "metadata": {},
   "outputs": [
    {
     "ename": "",
     "evalue": "",
     "output_type": "error",
     "traceback": [
      "\u001b[1;31mJupyter cannot be started. Error attempting to locate Jupyter: Running cells with 'Python 3.8.8 64-bit' requires notebook and jupyter package.\n",
      "Run the following command to install 'jupyter and notebook' into the Python environment. \n",
      "Command: 'python -m pip install jupyter notebook -U\n",
      "or\n",
      "conda install jupyter notebook -U'\n",
      "Click <a href='https://aka.ms/installJupyterForVSCode'>here</a> for more info."
     ]
    }
   ],
   "source": [
    "# check library version numbers \n",
    "import numpy as np\n",
    "print('numpy: %s' % np.__version__) \n",
    "import matplotlib \n",
    "import matplotlib.pyplot as plt\n",
    "print('matplotlib: %s' % matplotlib.__version__)\n",
    "import random\n",
    "import seaborn as sns\n",
    "import skimage\n",
    "import scipy\n",
    "import plotly\n",
    "import PIL\n",
    "from PIL import Image, ImageDraw, ImageFilter\n",
    "import cv2\n",
    "print('opencv: %s' % cv2.__version__)\n",
    "print('PIL: %s' % PIL.__version__)\n",
    "from sklearn.preprocessing import StandardScaler\n",
    "from sklearn.model_selection import train_test_split\n",
    "import pandas as pd"
   ]
  },
  {
   "cell_type": "code",
   "execution_count": null,
   "metadata": {
    "scrolled": true
   },
   "outputs": [
    {
     "ename": "",
     "evalue": "",
     "output_type": "error",
     "traceback": [
      "\u001b[1;31mFailed to start the Kernel. \n",
      "spawn /conda ENOENT. \n",
      "View Jupyter <a href='command:jupyter.viewOutput'>log</a> for further details."
     ]
    }
   ],
   "source": [
    "# DL modules\n",
    "# tensorflow\n",
    "import tensorflow as tf\n",
    "print('tensorflow: %s' % tf.__version__)\n",
    "# keras\n",
    "from tensorflow import keras\n",
    "print('keras: %s' % keras.__version__)\n",
    "from tensorflow.keras import layers\n",
    "import kerastuner as kt\n",
    "print('kerastuner: %s' % kt.__version__)\n",
    "from tensorflow.python.keras import backend as K"
   ]
  },
  {
   "cell_type": "markdown",
   "metadata": {},
   "source": [
    "## generate genetic data"
   ]
  },
  {
   "cell_type": "code",
   "execution_count": null,
   "metadata": {},
   "outputs": [
    {
     "ename": "",
     "evalue": "",
     "output_type": "error",
     "traceback": [
      "\u001b[1;31mFailed to start the Kernel. \n",
      "spawn /conda ENOENT. \n",
      "View Jupyter <a href='command:jupyter.viewOutput'>log</a> for further details."
     ]
    }
   ],
   "source": [
    "# function to generate dna\n",
    "# this function returns an n_ind x (n_qtl+n_snp) array with causative and random snps\n",
    "def do_sequence(g, n_qtl, s2e=0.1, n_snp=0, permute=False):\n",
    "    \"\"\" \n",
    "    Generates simple snp data\n",
    "    g: n_ind x n_trait matrix with genotype values for each indiv and trait\n",
    "    n_qtl: array with qtl for each trait\n",
    "    n_snp: num non causal snps\n",
    "    \"\"\"\n",
    "    dna = []\n",
    "    n_ind, n_trait = g.shape\n",
    "    \n",
    "    for t in range(n_trait):\n",
    "        for _ in range(n_qtl[t]):\n",
    "            a = g[:,t] + np.random.normal(0, s2e, n_ind)\n",
    "            dna.append(a)\n",
    "            \n",
    "    # add neutral snps\n",
    "    for _ in range(n_snp):\n",
    "        a = np.random.normal(0, s2e, n_ind)\n",
    "        dna.append(a)\n",
    "\n",
    "    dna = np.array(dna)\n",
    "    \n",
    "    # shuffle snp order (if permute=True)\n",
    "    if permute: \n",
    "       rng = np.random.default_rng()\n",
    "       rng.shuffle(dna)\n",
    "    \n",
    "    # transpose \n",
    "    dna = dna.transpose()\n",
    "    \n",
    "    # normalize\n",
    "    scaler = StandardScaler()\n",
    "    scaler.fit(dna)\n",
    "    dna = scaler.transform(dna)\n",
    "    \n",
    "    return dna"
   ]
  },
  {
   "cell_type": "code",
   "execution_count": null,
   "metadata": {},
   "outputs": [
    {
     "ename": "",
     "evalue": "",
     "output_type": "error",
     "traceback": [
      "\u001b[1;31mFailed to start the Kernel. \n",
      "spawn /conda ENOENT. \n",
      "View Jupyter <a href='command:jupyter.viewOutput'>log</a> for further details."
     ]
    }
   ],
   "source": [
    "# decoder network dna --> image: generates images out of snp data\n",
    "def dna2image(n_snp,image_size):\n",
    "    input = tf.keras.layers.Input(shape=(n_snp))\n",
    "\n",
    "    x = tf.keras.layers.Dense(np.prod(image_size))(input)\n",
    "    x = tf.keras.layers.Reshape(image_size+(1,))(x)\n",
    "    x = tf.keras.layers.Conv2DTranspose(16, (3,3), activation='relu', padding='same')(x)\n",
    "    x = tf.keras.layers.Conv2DTranspose(8, (3,3), activation='relu', padding='same')(x)\n",
    " \n",
    "    output = tf.keras.layers.Conv2DTranspose(1, (5,5), activation='relu', padding='same')(x)\n",
    "\n",
    "    return tf.keras.Model(input, output)"
   ]
  },
  {
   "cell_type": "code",
   "execution_count": null,
   "metadata": {},
   "outputs": [
    {
     "ename": "",
     "evalue": "",
     "output_type": "error",
     "traceback": [
      "\u001b[1;31mFailed to start the Kernel. \n",
      "spawn /conda ENOENT. \n",
      "View Jupyter <a href='command:jupyter.viewOutput'>log</a> for further details."
     ]
    }
   ],
   "source": [
    "# function to plot a sample (n=5) of observed vs predicted fruits\n",
    "def plot_obs_exp(dna, imgs, model, n=5):\n",
    "    ilist = np.random.randint(0,dna.shape[0], n)\n",
    "    image_size = imgs.shape[1:3]\n",
    "    plt.figure(figsize=(15, 15))\n",
    "    for i,ind in enumerate(ilist):\n",
    "        ax = plt.subplot(5, 5, 1+i)\n",
    "        plt.imshow(imgs[ind,])\n",
    "        plt.title('Observed:'+str(ind))\n",
    "        plt.axis(\"off\")\n",
    "    for i,id in enumerate(ilist):\n",
    "        ax = plt.subplot(5, 5, 6+i)\n",
    "        g = tf.expand_dims(dna[id,:], 0)\n",
    "        img = model.predict(g).reshape(image_size)\n",
    "        plt.imshow(img)\n",
    "        plt.title('Predicted:'+str(id))\n",
    "        plt.axis(\"off\")"
   ]
  },
  {
   "cell_type": "markdown",
   "metadata": {},
   "source": [
    "## Cucurbit shapes\n",
    "Transform fruit contours"
   ]
  },
  {
   "cell_type": "code",
   "execution_count": null,
   "metadata": {},
   "outputs": [
    {
     "ename": "",
     "evalue": "",
     "output_type": "error",
     "traceback": [
      "\u001b[1;31mFailed to start the Kernel. \n",
      "spawn /conda ENOENT. \n",
      "View Jupyter <a href='command:jupyter.viewOutput'>log</a> for further details."
     ]
    }
   ],
   "source": [
    "img_bw = PIL.Image.open('images/contours.png')\n",
    "plt.imshow(img_bw)\n",
    "print(type(img_bw))\n",
    "np.asarray(img_bw).shape"
   ]
  },
  {
   "cell_type": "code",
   "execution_count": null,
   "metadata": {},
   "outputs": [
    {
     "ename": "",
     "evalue": "",
     "output_type": "error",
     "traceback": [
      "\u001b[1;31mFailed to start the Kernel. \n",
      "spawn /conda ENOENT. \n",
      "View Jupyter <a href='command:jupyter.viewOutput'>log</a> for further details."
     ]
    }
   ],
   "source": [
    "# test other segmentation algorithms\n",
    "# This is based in https://github.com/lauzingaretti/DeepAFS\n",
    "img_bw = np.asarray(img_bw)\n",
    "x = int(np.mean(img_bw))\n",
    "_, threshold = cv2.threshold(img_bw,x,255,cv2.THRESH_BINARY)\n",
    "#kernel = np.ones((3,3),np.uint8)\n",
    "mask = cv2.dilate(cv2.Canny(threshold,0,255),None,iterations=1)    \n",
    "plt.imshow(mask)\n",
    "\n",
    "# \n",
    "contours, _  = cv2.findContours(mask, cv2.RETR_EXTERNAL, cv2.CHAIN_APPROX_NONE)\n",
    "len(contours)"
   ]
  },
  {
   "cell_type": "code",
   "execution_count": null,
   "metadata": {
    "scrolled": false
   },
   "outputs": [
    {
     "ename": "",
     "evalue": "",
     "output_type": "error",
     "traceback": [
      "\u001b[1;31mFailed to start the Kernel. \n",
      "spawn /conda ENOENT. \n",
      "View Jupyter <a href='command:jupyter.viewOutput'>log</a> for further details."
     ]
    }
   ],
   "source": [
    "# extract and label contours of interest and their centroids\n",
    "ids = [3, 4, 5, 11, 12, 13, 14]\n",
    "contours_used = list(np.array(contours,dtype=object)[ids]) # trick to subset indices from a list\n",
    "centroids=[]\n",
    "names = ['Scallop', 'Acorn', 'Straightneck', 'Marrow', 'Zucchini', 'Cocozelle', 'Pumpkin']\n",
    "imw = np.zeros(img_bw.shape) # blank image\n",
    "for (i,c) in enumerate(contours_used):\n",
    "    # compute centroid\n",
    "    M = cv2.moments(c)\n",
    "    cX = int(M[\"m10\"] / M[\"m00\"])\n",
    "    cY = int(M[\"m01\"] / M[\"m00\"])\n",
    "    centroids.append([cX,cY])\n",
    "    # draw contour\n",
    "    cv2.drawContours(imw, c, -1, (255,255,255), 1)\n",
    "    #cv2.fillPoly(imw, [c], (0,255,0))    \n",
    "    cv2.putText(imw, str(i), (cX-3, cY), cv2.FONT_HERSHEY_SIMPLEX, 0.4, (255, 255, 255), 1)\n",
    "    plt.imshow(imw)\n",
    "plt.show()\n",
    "print('names:',names)\n",
    "print('centroids:',centroids)\n",
    "print('n elements:',[c.shape[0] for c in contours_used])"
   ]
  },
  {
   "cell_type": "code",
   "execution_count": null,
   "metadata": {},
   "outputs": [
    {
     "ename": "",
     "evalue": "",
     "output_type": "error",
     "traceback": [
      "\u001b[1;31mFailed to start the Kernel. \n",
      "spawn /conda ENOENT. \n",
      "View Jupyter <a href='command:jupyter.viewOutput'>log</a> for further details."
     ]
    }
   ],
   "source": [
    "# Draw all contours to center\n",
    "imw = np.zeros(img_bw.shape) # blank image\n",
    "center = np.flip(np.array(imw.shape)//2)\n",
    "for (i,c) in enumerate(contours_used):\n",
    "    c = c - centroids[i] + center  # center contour\n",
    "    cv2.drawContours(imw, c, -1, (255,255,255), 1)\n",
    "    plt.imshow(imw)\n",
    "plt.show()\n",
    "contours_used[0].shape"
   ]
  },
  {
   "cell_type": "code",
   "execution_count": null,
   "metadata": {},
   "outputs": [
    {
     "ename": "",
     "evalue": "",
     "output_type": "error",
     "traceback": [
      "\u001b[1;31mFailed to start the Kernel. \n",
      "spawn /conda ENOENT. \n",
      "View Jupyter <a href='command:jupyter.viewOutput'>log</a> for further details."
     ]
    }
   ],
   "source": [
    "# Obtain N pseudolandmarks, take equal rays starting from centroid and moving in circle\n",
    "# function from LM Zingaretti: https://github.com/lauzingaretti/DeepAFS/\n",
    "def get_landmarks(img, centroid, N):\n",
    "    points=[]\n",
    "    height, width = img.shape\n",
    "    ref = np.zeros_like(img)\n",
    "    for i in range(N):\n",
    "        tmp = np.zeros_like(img)\n",
    "        theta = i*(360/N)\n",
    "        theta *= np.pi/180.0\n",
    "        # Step #6c\n",
    "        cv2.line(tmp, (centroid[0], centroid[1]),\n",
    "                 (int(centroid[0]+np.cos(theta)*width),\n",
    "                 int(centroid[1]-np.sin(theta)*height)), (255, 255, 255), 3)\n",
    "        try:\n",
    "            x = int(np.mean(np.nonzero(np.logical_and(tmp, img))[1]))\n",
    "            y = int(np.mean(np.nonzero(np.logical_and(tmp, img))[0]))\n",
    "            ref = cv2.circle(ref, (x,y), radius=2, color=(255,255,255), thickness=-1)\n",
    "            points.append((x,y))\n",
    "        except:\n",
    "            continue\n",
    "\n",
    "    return np.array(points)"
   ]
  },
  {
   "cell_type": "code",
   "execution_count": null,
   "metadata": {
    "scrolled": false
   },
   "outputs": [
    {
     "ename": "",
     "evalue": "",
     "output_type": "error",
     "traceback": [
      "\u001b[1;31mFailed to start the Kernel. \n",
      "spawn /conda ENOENT. \n",
      "View Jupyter <a href='command:jupyter.viewOutput'>log</a> for further details."
     ]
    }
   ],
   "source": [
    "# Obtain N pseudolandmarks\n",
    "N_ldm = 500\n",
    "center = np.flip(np.array(img_bw.shape)//2) # image center\n",
    "landmarks = []\n",
    "for i in range(7):\n",
    "    imw = np.zeros(img_bw.shape) # blank image\n",
    "    c = contours_used[i] - centroids[i] + center  # center contour\n",
    "    cv2.drawContours(imw, c, -1, (255,255,255), 1)\n",
    "    landmarks.append(get_landmarks(imw, center, N_ldm))\n",
    "landmarks = np.array(landmarks)"
   ]
  },
  {
   "cell_type": "code",
   "execution_count": null,
   "metadata": {},
   "outputs": [
    {
     "ename": "",
     "evalue": "",
     "output_type": "error",
     "traceback": [
      "\u001b[1;31mFailed to start the Kernel. \n",
      "spawn /conda ENOENT. \n",
      "View Jupyter <a href='command:jupyter.viewOutput'>log</a> for further details."
     ]
    }
   ],
   "source": [
    "# GPA from procrustes library https://github.com/theochem/procrustes\n",
    "# see also # https://medium.com/@olga_kravchenko/generalized-procrustes-analysis-with-python-numpy-c571e8e8a421\n",
    "from procrustes import generalized as GPA\n",
    "\n",
    "landmarks_aligned, new_distance_gpa = GPA(landmarks)\n",
    "landmarks_aligned = list(np.array(landmarks_aligned, dtype=int))\n",
    "\n",
    "print('GPA distance: %s ' % new_distance_gpa)"
   ]
  },
  {
   "cell_type": "code",
   "execution_count": null,
   "metadata": {
    "scrolled": false
   },
   "outputs": [
    {
     "ename": "",
     "evalue": "",
     "output_type": "error",
     "traceback": [
      "\u001b[1;31mFailed to start the Kernel. \n",
      "spawn /conda ENOENT. \n",
      "View Jupyter <a href='command:jupyter.viewOutput'>log</a> for further details."
     ]
    }
   ],
   "source": [
    "# show aligned shapes and extract bounding rectangles\n",
    "imw = np.ones_like(img_bw) # blank image\n",
    "lmkr_boxes = []\n",
    "for (i,c) in enumerate(landmarks_aligned):\n",
    "    c = np.expand_dims(c, axis=1)\n",
    "    cv2.drawContours(imw, c, -1, (0,255,0), 1)\n",
    "    lmkr_boxes.append(cv2.boundingRect(c))\n",
    "    plt.imshow(imw)\n",
    "plt.show()\n",
    "\n",
    "# Box enclosing all shapes\n",
    "lmkr_boxes = np.array(lmkr_boxes)\n",
    "max_box = (min(lmkr_boxes[:,0]), min(lmkr_boxes[:,1]), max(lmkr_boxes[:,2]), max(lmkr_boxes[:,3]))\n",
    "x,y,w,h = max_box\n",
    "#cv2.rectangle(imw, (x,y),(x+w,y+h),(0,255,0))\n",
    "#plt.imshow(imw)"
   ]
  },
  {
   "cell_type": "code",
   "execution_count": null,
   "metadata": {},
   "outputs": [
    {
     "ename": "",
     "evalue": "",
     "output_type": "error",
     "traceback": [
      "\u001b[1;31mFailed to start the Kernel. \n",
      "spawn /conda ENOENT. \n",
      "View Jupyter <a href='command:jupyter.viewOutput'>log</a> for further details."
     ]
    }
   ],
   "source": [
    "# crop and resize image \n",
    "imw_cropped = imw[y:y+h, x:x+w]\n",
    "plt.imshow(imw_cropped)\n",
    "plt.show()\n",
    "\n",
    "# choose a bounding square 80 x 80\n",
    "y = y - (80-h)//2\n",
    "x = x - (80-w)//2\n",
    "h, w = 80, 80\n",
    "max_square = (x,y,w,h)\n",
    "imw_cropped = imw[y:y+h, x:x+w]\n",
    "plt.imshow(imw_cropped)\n",
    "plt.show()\n",
    "\n",
    "imw_resized = cv2.resize(imw_cropped, (64,64), cv2.IMREAD_UNCHANGED)\n",
    "plt.imshow(imw_resized)\n"
   ]
  },
  {
   "cell_type": "code",
   "execution_count": null,
   "metadata": {},
   "outputs": [
    {
     "ename": "",
     "evalue": "",
     "output_type": "error",
     "traceback": [
      "\u001b[1;31mFailed to start the Kernel. \n",
      "spawn /conda ENOENT. \n",
      "View Jupyter <a href='command:jupyter.viewOutput'>log</a> for further details."
     ]
    }
   ],
   "source": [
    "# Draw a shape c in center, optionally solid\n",
    "def draw_shape(img, c, fill=False):\n",
    "    col = (0,255,0) # black line by default\n",
    "    if np.mean(img) < 125 : col = (255,255,255) # invert if img=np.zeros\n",
    "    # expand dims to 3 if needed\n",
    "    if len(c.shape) == 2: c = np.expand_dims(c, axis=1)\n",
    "    cv2.drawContours(img, c, -1, col, 1)\n",
    "    if fill: cv2.fillPoly(img, [c], col)\n",
    "imw = np.zeros(img_bw.shape)*255\n",
    "draw_shape(imw,landmarks_aligned[6],True)\n",
    "plt.imshow(imw)"
   ]
  },
  {
   "cell_type": "code",
   "execution_count": null,
   "metadata": {},
   "outputs": [
    {
     "ename": "",
     "evalue": "",
     "output_type": "error",
     "traceback": [
      "\u001b[1;31mFailed to start the Kernel. \n",
      "spawn /conda ENOENT. \n",
      "View Jupyter <a href='command:jupyter.viewOutput'>log</a> for further details."
     ]
    }
   ],
   "source": [
    "# Now let us transform one shape into another, ideally following a known development / evolutive path\n",
    "def transform_shape(c1, c2, coeff=0.5):\n",
    "    ''' function to return an intermediate shape with some stochasticity\n",
    "        - c1, c2: two shapes with aligned landmarks\n",
    "        - coeff: coefficient of similarity c2-c1\n",
    "    '''\n",
    "    c = c1 + (c2-c1)*coeff\n",
    "    return np.array(c, dtype=int)\n",
    "\n",
    "# autocorrelated process to induce noise in shape\n",
    "# https://stackoverflow.com/questions/33898665/python-generate-array-of-specific-autocorrelation\n",
    "def sample_signal(n_samples, corr, mu=0, sigma=1):\n",
    "    assert 0 < corr < 1, \"Auto-correlation must be between 0 and 1\"\n",
    "    # Find out the offset `c` and the std of the white noise `sigma_e`\n",
    "    # that produce a signal with the desired mean and variance.\n",
    "    # See https://en.wikipedia.org/wiki/Autoregressive_model\n",
    "    # under section \"Example: An AR(1) process\".\n",
    "    c = mu * (1 - corr)\n",
    "    sigma_e = np.sqrt((sigma ** 2) * (1 - corr ** 2))\n",
    "\n",
    "    # Sample the auto-regressive process.\n",
    "    signal = [c + np.random.normal(0, sigma_e)]\n",
    "    for _ in range(1, n_samples):\n",
    "        signal.append(c + corr * signal[-1] + np.random.normal(0, sigma_e))\n",
    "    return np.array(signal)\n",
    "\n",
    "def modify_shape(c1, epsilon=0.01):\n",
    "    ''' add noise (rugosity) to shapes, ensure autocorrelation between signs\n",
    "    c1: contour or array\n",
    "    epsilon: noise\n",
    "    '''\n",
    "    c = np.copy(c1)\n",
    "    if len(c.shape) == 2 : c=np.expand_dims(c, axis=1)\n",
    "    N = len(c[:,:,0])\n",
    "    s1 = c[:,:,0].std() * epsilon\n",
    "    s2 = c[:,:,1].std() * epsilon\n",
    "    noise_x = sample_signal(N, .9)\n",
    "    noise_x = noise_x/noise_x.std() * s1\n",
    "    noise_y = sample_signal(N, .9)\n",
    "    noise_y = noise_y/noise_y.std() * s2\n",
    "    c[:,:,0] += np.array(noise_x, dtype=int).reshape(N,1)\n",
    "    c[:,:,1] += np.array(noise_y, dtype=int).reshape(N,1)\n",
    "    return np.array(c, dtype=int)\n",
    "\n",
    "# bend shape starting from centroid so tip is turned right or left deg degrees\n",
    "def bend_shape(c, deg=0):\n",
    "    return c"
   ]
  },
  {
   "cell_type": "code",
   "execution_count": null,
   "metadata": {},
   "outputs": [
    {
     "ename": "",
     "evalue": "",
     "output_type": "error",
     "traceback": [
      "\u001b[1;31mFailed to start the Kernel. \n",
      "spawn /conda ENOENT. \n",
      "View Jupyter <a href='command:jupyter.viewOutput'>log</a> for further details."
     ]
    }
   ],
   "source": [
    "# add noise to image and smooth contour\n",
    "epsilon = 0.1\n",
    "sigma = 1 # this depends on how noisy your data is, play with it!\n",
    "\n",
    "fig = plt.figure(figsize=(30,10))\n",
    "i = 0\n",
    "for la in landmarks_aligned:\n",
    "    i+=1\n",
    "    imw = np.zeros_like(img_bw)\n",
    "    cc = modify_shape(la,epsilon=epsilon)\n",
    "    draw_shape(imw, cc, fill=True)\n",
    "    imw = scipy.ndimage.filters.gaussian_filter(imw, sigma)\n",
    "    fig.add_subplot(2,4,i)\n",
    "    plt.imshow(imw)"
   ]
  },
  {
   "cell_type": "code",
   "execution_count": null,
   "metadata": {},
   "outputs": [
    {
     "ename": "",
     "evalue": "",
     "output_type": "error",
     "traceback": [
      "\u001b[1;31mFailed to start the Kernel. \n",
      "spawn /conda ENOENT. \n",
      "View Jupyter <a href='command:jupyter.viewOutput'>log</a> for further details."
     ]
    }
   ],
   "source": [
    "print(names)"
   ]
  },
  {
   "cell_type": "code",
   "execution_count": null,
   "metadata": {
    "scrolled": true
   },
   "outputs": [
    {
     "ename": "",
     "evalue": "",
     "output_type": "error",
     "traceback": [
      "\u001b[1;31mFailed to start the Kernel. \n",
      "spawn /conda ENOENT. \n",
      "View Jupyter <a href='command:jupyter.viewOutput'>log</a> for further details."
     ]
    }
   ],
   "source": [
    "# intermediate shapes acorn --> scallop\n",
    "col = (0,255,0)\n",
    "y = [center[0]-50, center[0]+50]\n",
    "x = [center[1]-50, center[1]+40]\n",
    "\n",
    "fig = plt.figure(figsize=(20,20))\n",
    "\n",
    "imw = np.ones(img_bw.shape) # blank image\n",
    "c1 = np.expand_dims(landmarks_aligned[6], axis=1)\n",
    "c2 = np.expand_dims(landmarks_aligned[3], axis=1)\n",
    "c3 = transform_shape(c1,c2)\n",
    "cv2.drawContours(imw, c1, -1, col, 1)\n",
    "cv2.drawContours(imw, c2, -1, col, 1)\n",
    "cv2.drawContours(imw, c3, -1, col, 1)\n",
    "imw = imw[x[0]:x[1], y[0]:y[1]]\n",
    "cv2.putText(imw, 'Pumpkin -> Marrow', (0, 10), cv2.FONT_HERSHEY_SIMPLEX, 0.3, col, 1)\n",
    "fig.add_subplot(141)\n",
    "plt.imshow(imw)\n",
    "\n",
    "imw = np.ones(img_bw.shape) # blank image\n",
    "c2 = np.expand_dims(landmarks_aligned[0], axis=1)\n",
    "c3 = transform_shape(c1,c2)\n",
    "cv2.drawContours(imw, c1, -1, col, 1)\n",
    "cv2.drawContours(imw, c2, -1, col, 1)\n",
    "cv2.drawContours(imw, c3, -1, col, 1)\n",
    "imw = imw[x[0]:x[1], y[0]:y[1]]\n",
    "cv2.putText(imw, 'Pumpkin -> Scallop', (0, 10), cv2.FONT_HERSHEY_SIMPLEX, 0.3, col, 1)\n",
    "fig.add_subplot(142)\n",
    "plt.imshow(imw)\n",
    "\n",
    "imw = np.ones(img_bw.shape) # blank image\n",
    "c2 = np.expand_dims(landmarks_aligned[1], axis=1)\n",
    "c3 = transform_shape(c1,c2)\n",
    "cv2.drawContours(imw, c1, -1, col, 1)\n",
    "cv2.drawContours(imw, c2, -1, col, 1)\n",
    "cv2.drawContours(imw, c3, -1, col, 1)\n",
    "imw = imw[x[0]:x[1], y[0]:y[1]]\n",
    "cv2.putText(imw, 'Pumpkin -> Acorn', (0, 10), cv2.FONT_HERSHEY_SIMPLEX, 0.3, col, 1)\n",
    "fig.add_subplot(143)\n",
    "plt.imshow(imw)\n",
    "\n",
    "\n",
    "imw = np.ones(img_bw.shape) # blank image\n",
    "c1 = np.expand_dims(landmarks_aligned[3], axis=1)\n",
    "c2 = np.expand_dims(landmarks_aligned[5], axis=1)\n",
    "c3 = transform_shape(c1,c2)\n",
    "cv2.drawContours(imw, c1, -1, col, 1)\n",
    "cv2.drawContours(imw, c2, -1, col, 1)\n",
    "cv2.drawContours(imw, c3, -1, col, 1)\n",
    "imw = imw[x[0]:x[1], y[0]:y[1]]\n",
    "cv2.putText(imw, 'Marrow -> Cocozelle', (0, 10), cv2.FONT_HERSHEY_SIMPLEX, 0.3, col, 1)\n",
    "fig.add_subplot(144)\n",
    "plt.imshow(imw)\n",
    "\n",
    "plt.imshow(imw)"
   ]
  },
  {
   "cell_type": "markdown",
   "metadata": {},
   "source": [
    "### Cucurbit Simulation strategy:\n",
    "H. Paris, 1989. [*Historical records, origins, and development of the edible cultivar groups \n",
    "of Cucurbita pepo (Cucurbitaceae). Economic Botany, 43:423-443.*](https://www.researchgate.net/publication/251359943_Historical_records_origins_and_development_of_the_edible_cultivar_groups_of_Cucurbita_pepo_Cucurbitaceae)\n",
    "\"Cucurbita pepo includes eight groups of edible cultivars \n",
    "pumpkins, scallops, acorns, crooknecks, straightnecks, vegetable marrows, cocozelles, \n",
    "and zucchinis. The pumpkins, scallops, and possibly the crooknecks are ancient groups \n",
    "that developed along separate lines of domestication in North America. Incipient forms\n",
    "of all the other five groups appeared in botanical herbals of Europe by 1700. Modern\n",
    "forms of the vegetable marrows, cocozelles, zucchinis, and acorns appeared in\n",
    "Europe prior to 1860, and the modern straightnecks appeared in North America\n",
    "by 1896. Divergence among the various groups appears to be increasing under\n",
    "continuing domestication due to the different demands made on cultivars grown\n",
    "for their immature fruits as opposed to cultivars grown for their mature fruits. An\n",
    "association exists between length to width ratio and stage of culinary use of the\n",
    "fruits in Cucurbita pepo. The scallops are one of the oldest cultivar groups of C. pepo. \n",
    "As the pumpkins (Bock 1546; Fuchs 1542) and shortly thereafter the scallops\n",
    "(Dodoens 1554) were the first to be depicted in the botanical herbals, it can be\n",
    "concluded that both groups were brought to Europe from America. **There exists a fundamental \n",
    "division within C. pepo, with the pumpkins and scallops lying on opposite sides of that division. The great differences in fruit\n",
    "shape and culinary adaptation of these two groups would also suggest that they\n",
    "are genetically and evolutionarily distant from one another.** The acorn appeared in botanical literature beginning with the Tabernaemontanus edition of 1591 (Whitaker 1947). This is some 30-50 yr after the first records\n",
    "of the pumpkins and scallops in Europe. The timing here is perhaps significant:\n",
    "the **acorns may have been derived through chance crossing between the pumpkin\n",
    "and scallop groups**. A cross between a pumpkin and a scallop could\n",
    "account for the acorns having the non-lignified rinds and the satisfactory mature\n",
    "fruit eating quality of the pumpkins and the \"cornered\" shape of the scallops. \"\n",
    "\n",
    "![](images/Harris1989_Fig17.png)\n",
    "\n",
    "- Define a hypothetical, simplified phylogenetic path in shapes (see Fig 17 above, Paris 1989)\n",
    "   1. Pumpkin --> Acorn --> Scallop\n",
    "   2. Pumpkin --> Marrow --> Straightneck --> Zucchini --> Cocozelle\n",
    "- Assign SNPs and values along each path,\n",
    "   - Some major loci indicate a given path\n",
    "   - Genetic value indicates a stage along each path\n",
    "   - Random noise\n",
    "- Generate genotypes and (shapes | g) + e\n",
    "\n",
    "### Two genetic models\n",
    "1. Continuous latent shape variable with extreme values Scallop --> Pumpkin --> Cocozelle\n",
    "2. Binary variable determines path 1 or 2, plus latent variable within each path"
   ]
  },
  {
   "cell_type": "code",
   "execution_count": null,
   "metadata": {},
   "outputs": [
    {
     "ename": "",
     "evalue": "",
     "output_type": "error",
     "traceback": [
      "\u001b[1;31mFailed to start the Kernel. \n",
      "spawn /conda ENOENT. \n",
      "View Jupyter <a href='command:jupyter.viewOutput'>log</a> for further details."
     ]
    }
   ],
   "source": [
    "# Simulation parameters\n",
    "- High Fst between Scallop and Zucchini pathways\n",
    "- Underlying continuous shape variable within each path\n",
    "- Noise within each shape is added by drawing an intermediate shape, say c*0.95 + 0.05*c1 + rnorm()"
   ]
  },
  {
   "cell_type": "code",
   "execution_count": null,
   "metadata": {},
   "outputs": [
    {
     "ename": "",
     "evalue": "",
     "output_type": "error",
     "traceback": [
      "\u001b[1;31mFailed to start the Kernel. \n",
      "spawn /conda ENOENT. \n",
      "View Jupyter <a href='command:jupyter.viewOutput'>log</a> for further details."
     ]
    }
   ],
   "source": [
    "# shape evolutive orders are\n",
    "# 0 -> 1 -> 6 -> 3 -> 2 -> 4 -> 5\n",
    "ixs = np.array([0, 1, 6, 3, 2, 4, 5], dtype=int)\n",
    "inames = np.array(names)[ixs]\n",
    "ilandmarks = np.array(landmarks_aligned)[ixs]\n",
    "imw = np.zeros(img_bw.shape)\n",
    "draw_shape(imw,ilandmarks[2],True)\n",
    "plt.imshow(imw)\n",
    "print(inames)"
   ]
  },
  {
   "cell_type": "code",
   "execution_count": null,
   "metadata": {},
   "outputs": [
    {
     "ename": "",
     "evalue": "",
     "output_type": "error",
     "traceback": [
      "\u001b[1;31mFailed to start the Kernel. \n",
      "spawn /conda ENOENT. \n",
      "View Jupyter <a href='command:jupyter.viewOutput'>log</a> for further details."
     ]
    }
   ],
   "source": [
    "# Resize image: center and crop contours\n",
    "''' to scale\n",
    "c = c * scale\n",
    "c = c + [cx, cy] # centroid\n",
    "c = c.astype(np.int32)\n",
    "'''\n",
    "\n",
    "img_shape = (64,64)\n",
    "old_shape = img_bw.shape\n",
    "[cy, cx] = np.array(img_shape)//2\n",
    "[cy0, cx0] = np.array(old_shape)//2\n",
    "for i in range(len(ilandmarks)):\n",
    "    ilandmarks[i] = ilandmarks[i] - [cx0,cy0] + [cx,cy] "
   ]
  },
  {
   "cell_type": "code",
   "execution_count": null,
   "metadata": {},
   "outputs": [
    {
     "ename": "",
     "evalue": "",
     "output_type": "error",
     "traceback": [
      "\u001b[1;31mFailed to start the Kernel. \n",
      "spawn /conda ENOENT. \n",
      "View Jupyter <a href='command:jupyter.viewOutput'>log</a> for further details."
     ]
    }
   ],
   "source": [
    "# sample cucurbit shape \n",
    "# First strategy: Continuous underlying shape\n",
    "def sample_shape(ic, landmarks, size=(32,32), epsilon=0.1, sigma=1):\n",
    "    '''\n",
    "    ic: shape real value between 0 and n_shapes-1\n",
    "    landmarks: contours\n",
    "    size: image size\n",
    "    epsilon: noise\n",
    "    sigma: smoothing parameter\n",
    "    '''\n",
    "    # choose nearest shapes\n",
    "    ic1, ic2 = (int(ic//1), int(ic//1+1))\n",
    "    # blank image\n",
    "    imw = np.zeros(size)*255\n",
    "    # intermediate shape\n",
    "    cc = transform_shape(landmarks[ic1], landmarks[ic2], ic-ic1)\n",
    "    # add noise\n",
    "    cc = modify_shape(cc, epsilon=epsilon)\n",
    "    draw_shape(imw, cc, fill=True)\n",
    "    imw = scipy.ndimage.filters.gaussian_filter(imw, sigma)\n",
    "    return imw"
   ]
  },
  {
   "cell_type": "code",
   "execution_count": null,
   "metadata": {},
   "outputs": [
    {
     "ename": "",
     "evalue": "",
     "output_type": "error",
     "traceback": [
      "\u001b[1;31mFailed to start the Kernel. \n",
      "spawn /conda ENOENT. \n",
      "View Jupyter <a href='command:jupyter.viewOutput'>log</a> for further details."
     ]
    }
   ],
   "source": [
    "# Some parameters\n",
    "n_train = 1000\n",
    "n_val = 100\n",
    "n_tst = 100\n",
    "N = n_train + n_val + n_tst\n",
    "n_qtl = 20\n",
    "n_snp = 100\n",
    "n_shapes = 7\n",
    "# g is  value between 0 and n_shapes-1 later on I need to decompose g into loci\n",
    "g_all = np.random.uniform(0, n_shapes-1, N)"
   ]
  },
  {
   "cell_type": "code",
   "execution_count": null,
   "metadata": {},
   "outputs": [
    {
     "ename": "",
     "evalue": "",
     "output_type": "error",
     "traceback": [
      "\u001b[1;31mFailed to start the Kernel. \n",
      "spawn /conda ENOENT. \n",
      "View Jupyter <a href='command:jupyter.viewOutput'>log</a> for further details."
     ]
    }
   ],
   "source": [
    "# Generate genotypes\n",
    "if len(g_all.shape)==1: \n",
    "    g_all = np.expand_dims(g_all,1) # need a matrix nind x ntrait\n",
    "    \n",
    "dna_all = do_sequence(g_all, [n_qtl], s2e=0.01, n_snp=n_snp)"
   ]
  },
  {
   "cell_type": "code",
   "execution_count": null,
   "metadata": {},
   "outputs": [
    {
     "ename": "",
     "evalue": "",
     "output_type": "error",
     "traceback": [
      "\u001b[1;31mFailed to start the Kernel. \n",
      "spawn /conda ENOENT. \n",
      "View Jupyter <a href='command:jupyter.viewOutput'>log</a> for further details."
     ]
    }
   ],
   "source": [
    "# Generate samples: g contains genotypes, imgs contains images\n",
    "imgs_all = []\n",
    "for ig in g:\n",
    "    img = sample_shape(ig, ilandmarks, img_shape)\n",
    "    imgs_all.append(img)\n",
    "imgs_all = np.array(imgs)\n",
    "\n",
    "# Partition\n",
    "imgs = imgs_all[:n_train+n_val,]\n",
    "dna = dna_all[:n_train+n_val]\n",
    "imgs_train, imgs_val, dna_train, dna_val = train_test_split(imgs, dna, test_size=0.2)"
   ]
  },
  {
   "cell_type": "code",
   "execution_count": null,
   "metadata": {},
   "outputs": [
    {
     "ename": "",
     "evalue": "",
     "output_type": "error",
     "traceback": [
      "\u001b[1;31mFailed to start the Kernel. \n",
      "spawn /conda ENOENT. \n",
      "View Jupyter <a href='command:jupyter.viewOutput'>log</a> for further details."
     ]
    }
   ],
   "source": [
    "# show random image\n",
    "plt.imshow(imgs[np.random.randint(0,n_train)])"
   ]
  },
  {
   "cell_type": "code",
   "execution_count": null,
   "metadata": {},
   "outputs": [
    {
     "ename": "",
     "evalue": "",
     "output_type": "error",
     "traceback": [
      "\u001b[1;31mFailed to start the Kernel. \n",
      "spawn /conda ENOENT. \n",
      "View Jupyter <a href='command:jupyter.viewOutput'>log</a> for further details."
     ]
    }
   ],
   "source": [
    "# reuse previous networks (dna2image)\n",
    "\n",
    "if 'decoder' in locals() or 'decoder' in globals(): del decoder\n",
    "\n",
    "decoder = dna2image(n_snp+n_qtl,img_shape)\n",
    "\n",
    "decoder.compile(optimizer=keras.optimizers.RMSprop(1e-3),\n",
    "                loss=tf.keras.losses.MeanSquaredError(),\n",
    "                metrics=tf.keras.metrics.MeanSquaredError(), )\n",
    "\n",
    "decoder.summary()\n",
    "\n",
    "tf.keras.utils.plot_model(decoder, show_shapes=True)\n"
   ]
  },
  {
   "cell_type": "code",
   "execution_count": null,
   "metadata": {},
   "outputs": [
    {
     "ename": "",
     "evalue": "",
     "output_type": "error",
     "traceback": [
      "\u001b[1;31mFailed to start the Kernel. \n",
      "spawn /conda ENOENT. \n",
      "View Jupyter <a href='command:jupyter.viewOutput'>log</a> for further details."
     ]
    }
   ],
   "source": [
    "epochs = 50\n",
    "\n",
    "callbacks = [keras.callbacks.EarlyStopping(monitor='loss', patience=3),]\n",
    "\n",
    "decoder.fit(x=dna_train,\n",
    "            y=imgs_train,\n",
    "            batch_size=64, \n",
    "            callbacks=callbacks, \n",
    "            epochs=epochs,\n",
    "            validation_data=(dna_val,imgs_val),)"
   ]
  },
  {
   "cell_type": "code",
   "execution_count": null,
   "metadata": {},
   "outputs": [
    {
     "ename": "",
     "evalue": "",
     "output_type": "error",
     "traceback": [
      "\u001b[1;31mFailed to start the Kernel. \n",
      "spawn /conda ENOENT. \n",
      "View Jupyter <a href='command:jupyter.viewOutput'>log</a> for further details."
     ]
    }
   ],
   "source": [
    "plot_obs_exp(dna_all, imgs_all, decoder, n=5)"
   ]
  },
  {
   "cell_type": "code",
   "execution_count": null,
   "metadata": {},
   "outputs": [
    {
     "ename": "",
     "evalue": "",
     "output_type": "error",
     "traceback": [
      "\u001b[1;31mFailed to start the Kernel. \n",
      "spawn /conda ENOENT. \n",
      "View Jupyter <a href='command:jupyter.viewOutput'>log</a> for further details."
     ]
    }
   ],
   "source": [
    "id = np.random.randint(0,dna_all.shape[0])\n",
    "g = tf.expand_dims(dna[id,:], 0)\n",
    "img = decoder.predict(g).reshape(imgs.shape[1:3])\n",
    "plt.imshow(img)\n"
   ]
  },
  {
   "cell_type": "code",
   "execution_count": null,
   "metadata": {},
   "outputs": [
    {
     "ename": "",
     "evalue": "",
     "output_type": "error",
     "traceback": [
      "\u001b[1;31mFailed to start the Kernel. \n",
      "spawn /conda ENOENT. \n",
      "View Jupyter <a href='command:jupyter.viewOutput'>log</a> for further details."
     ]
    }
   ],
   "source": [
    "plt.imshow(imgs[id])"
   ]
  },
  {
   "cell_type": "code",
   "execution_count": null,
   "metadata": {},
   "outputs": [
    {
     "ename": "",
     "evalue": "",
     "output_type": "error",
     "traceback": [
      "\u001b[1;31mFailed to start the Kernel. \n",
      "spawn /conda ENOENT. \n",
      "View Jupyter <a href='command:jupyter.viewOutput'>log</a> for further details."
     ]
    }
   ],
   "source": []
  }
 ],
 "metadata": {
  "kernelspec": {
   "display_name": "Python 3.9.2 ('base')",
   "language": "python",
   "name": "python3"
  },
  "language_info": {
   "codemirror_mode": {
    "name": "ipython",
    "version": 3
   },
   "file_extension": ".py",
   "mimetype": "text/x-python",
   "name": "python",
   "nbconvert_exporter": "python",
   "pygments_lexer": "ipython3",
   "version": "3.9.2"
  },
  "vscode": {
   "interpreter": {
    "hash": "8752ce88a4c0e18e5291142125910f3f9a9fc8249062db04d8b11194a53244cd"
   }
  }
 },
 "nbformat": 4,
 "nbformat_minor": 4
}
